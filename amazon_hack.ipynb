{
  "nbformat": 4,
  "nbformat_minor": 0,
  "metadata": {
    "colab": {
      "provenance": [],
      "authorship_tag": "ABX9TyMgurLAbUBTH7TM/YTyuDr3",
      "include_colab_link": true
    },
    "kernelspec": {
      "name": "python3",
      "display_name": "Python 3"
    },
    "language_info": {
      "name": "python"
    }
  },
  "cells": [
    {
      "cell_type": "markdown",
      "metadata": {
        "id": "view-in-github",
        "colab_type": "text"
      },
      "source": [
        "<a href=\"https://colab.research.google.com/github/shivansh9604/Amazon_Hackathon/blob/main/amazon_hack.ipynb\" target=\"_parent\"><img src=\"https://colab.research.google.com/assets/colab-badge.svg\" alt=\"Open In Colab\"/></a>"
      ]
    },
    {
      "cell_type": "code",
      "execution_count": null,
      "metadata": {
        "id": "E6Nmj2GJrS_o"
      },
      "outputs": [],
      "source": [
        "import os\n",
        "import requests\n",
        "\n",
        "def download_images(image_links, save_dir):\n",
        "    if not os.path.exists(save_dir):\n",
        "        os.makedirs(save_dir)\n",
        "\n",
        "    for idx, link in enumerate(image_links):\n",
        "        img_data = requests.get(link).content\n",
        "        with open(os.path.join(save_dir, f'image_{idx}.jpg'), 'wb') as handler:\n",
        "            handler.write(img_data)\n",
        "\n",
        "# Example usage:\n",
        "train_image_links = [...]  # Replace with list of train image URLs\n",
        "test_image_links = [...]   # Replace with list of test image URLs\n",
        "\n",
        "# Download train and test images\n",
        "download_images(train_image_links, 'train_images')\n",
        "download_images(test_image_links, 'test_images')\n"
      ]
    },
    {
      "cell_type": "code",
      "source": [
        "import tensorflow as tf\n",
        "from tensorflow.keras.preprocessing.image import ImageDataGenerator\n",
        "\n",
        "# Define directories\n",
        "train_dir = 'train_images'\n",
        "test_dir = 'test_images'\n",
        "\n",
        "# Data augmentation and rescaling for training\n",
        "train_datagen = ImageDataGenerator(\n",
        "    rescale=1./255,\n",
        "    rotation_range=20,\n",
        "    width_shift_range=0.2,\n",
        "    height_shift_range=0.2,\n",
        "    shear_range=0.2,\n",
        "    zoom_range=0.2,\n",
        "    horizontal_flip=True,\n",
        "    fill_mode='nearest')\n",
        "\n",
        "# Only rescaling for test data (no augmentation)\n",
        "test_datagen = ImageDataGenerator(rescale=1./255)\n",
        "\n",
        "# Load train data\n",
        "train_generator = train_datagen.flow_from_directory(\n",
        "    train_dir,\n",
        "    target_size=(224, 224),\n",
        "    batch_size=32,\n",
        "    class_mode='categorical')\n",
        "\n",
        "# Load test data\n",
        "test_generator = test_datagen.flow_from_directory(\n",
        "    test_dir,\n",
        "    target_size=(224, 224),\n",
        "    batch_size=32,\n",
        "    class_mode=None,  # No labels for the test set\n",
        "    shuffle=False)\n"
      ],
      "metadata": {
        "id": "2jXwfuQ5rgAi"
      },
      "execution_count": null,
      "outputs": []
    },
    {
      "cell_type": "code",
      "source": [
        "from tensorflow.keras.applications import ResNet50\n",
        "from tensorflow.keras.layers import Dense, Flatten\n",
        "from tensorflow.keras.models import Model\n",
        "\n",
        "# Load the pre-trained ResNet50 model without the top layers\n",
        "base_model = ResNet50(weights='imagenet', include_top=False, input_shape=(224, 224, 3))\n",
        "\n",
        "# Freeze the base model's layers (you can unfreeze later if fine-tuning)\n",
        "for layer in base_model.layers:\n",
        "    layer.trainable = False\n",
        "\n",
        "# Add custom layers for classification\n",
        "x = Flatten()(base_model.output)\n",
        "x = Dense(1024, activation='relu')(x)\n",
        "predictions = Dense(train_generator.num_classes, activation='softmax')(x)\n",
        "\n",
        "# Create the final model\n",
        "model = Model(inputs=base_model.input, outputs=predictions)\n",
        "\n",
        "# Compile the model\n",
        "model.compile(optimizer='adam', loss='categorical_crossentropy', metrics=['accuracy'])\n",
        "\n",
        "# Model summary\n",
        "model.summary()\n"
      ],
      "metadata": {
        "id": "ZEF16gx1rlzL"
      },
      "execution_count": null,
      "outputs": []
    },
    {
      "cell_type": "code",
      "source": [
        "# Train the model\n",
        "history = model.fit(\n",
        "    train_generator,\n",
        "    steps_per_epoch=train_generator.samples // train_generator.batch_size,\n",
        "    epochs=10,\n",
        "    validation_data=None)\n",
        "\n",
        "# You can also create a validation set if needed by splitting the train set\n"
      ],
      "metadata": {
        "id": "j7flZz2SrrrS"
      },
      "execution_count": null,
      "outputs": []
    },
    {
      "cell_type": "code",
      "source": [
        "# Predict on test data\n",
        "test_generator.reset()  # Reset the generator if it has been used\n",
        "predictions = model.predict(test_generator, steps=test_generator.samples // test_generator.batch_size)\n",
        "\n",
        "# Get the predicted class indices\n",
        "predicted_class_indices = tf.argmax(predictions, axis=1).numpy()\n",
        "\n",
        "# Get class labels\n",
        "labels = (train_generator.class_indices)\n",
        "labels = dict((v,k) for k,v in labels.items())  # Reversing the dictionary\n",
        "predicted_labels = [labels[k] for k in predicted_class_indices]\n",
        "\n",
        "# Print predicted labels\n",
        "for idx, label in enumerate(predicted_labels):\n",
        "    print(f\"Image {test_generator.filenames[idx]}: Predicted class -> {label}\")\n"
      ],
      "metadata": {
        "id": "-0W2CbULrtu-"
      },
      "execution_count": null,
      "outputs": []
    }
  ]
}